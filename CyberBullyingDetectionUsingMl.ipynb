{
  "nbformat": 4,
  "nbformat_minor": 0,
  "metadata": {
    "colab": {
      "provenance": [],
      "authorship_tag": "ABX9TyN1P7qNNHdf1VVMlpMzQqJ4",
      "include_colab_link": true
    },
    "kernelspec": {
      "name": "python3",
      "display_name": "Python 3"
    },
    "language_info": {
      "name": "python"
    }
  },
  "cells": [
    {
      "cell_type": "markdown",
      "metadata": {
        "id": "view-in-github",
        "colab_type": "text"
      },
      "source": [
        "<a href=\"https://colab.research.google.com/github/mrayushman/Cyber-Bullying-Detection-using-ML/blob/main/CyberBullyingDetectionUsingMl.ipynb\" target=\"_parent\"><img src=\"https://colab.research.google.com/assets/colab-badge.svg\" alt=\"Open In Colab\"/></a>"
      ]
    },
    {
      "cell_type": "code",
      "execution_count": 11,
      "metadata": {
        "colab": {
          "base_uri": "https://localhost:8080/"
        },
        "id": "suePfVZvZMaA",
        "outputId": "b3c2df50-cad4-4eba-839c-c8dd167e7efb"
      },
      "outputs": [
        {
          "output_type": "stream",
          "name": "stderr",
          "text": [
            "/usr/local/lib/python3.7/dist-packages/ipykernel_launcher.py:3: FutureWarning: Passing a negative integer is deprecated in version 1.0 and will not be supported in future version. Instead, use None to not limit the column width.\n",
            "  This is separate from the ipykernel package so we can avoid doing imports until\n",
            "[nltk_data] Downloading package stopwords to /root/nltk_data...\n",
            "[nltk_data]   Unzipping corpora/stopwords.zip.\n"
          ]
        },
        {
          "output_type": "execute_result",
          "data": {
            "text/plain": [
              "True"
            ]
          },
          "metadata": {},
          "execution_count": 11
        }
      ],
      "source": [
        "import numpy as np\n",
        "import pandas as pd\n",
        "pd.set_option(\"display.max_colwidth\", -1)\n",
        "import matplotlib.pyplot as plt\n",
        "%matplotlib inline\n",
        "import nltk\n",
        "import nltk\n",
        "nltk.download(\"stopwords\")"
      ]
    },
    {
      "cell_type": "code",
      "source": [
        "url = 'https://raw.githubusercontent.com/adwait1291/Cyber-Bullying-Detection-Using-ML-Algorithims/main/Dataset/Suspicious%20Communication%20on%20Social%20Platforms.csv'\n",
        "df = pd.read_csv(url)\n",
        "df.head()"
      ],
      "metadata": {
        "colab": {
          "base_uri": "https://localhost:8080/",
          "height": 206
        },
        "id": "8kbjP25XZ5xE",
        "outputId": "e386f027-00a0-4655-cec6-90163f1e9474"
      },
      "execution_count": 2,
      "outputs": [
        {
          "output_type": "execute_result",
          "data": {
            "text/plain": [
              "                                                                                                                             comments  \\\n",
              "0   Get fucking real dude.                                                                                                              \n",
              "1   She is as dirty as they come  and that crook Rengel  the Dems are so fucking corrupt it's a joke. Make Republicans look like  ...   \n",
              "2   why did you fuck it up. I could do it all day too. Let's do it when you have an hour. Ping me later to sched writing a book here.   \n",
              "3   Dude they dont finish enclosing the fucking showers. I hate half assed jobs. Whats the reasononing behind it? Makes no sense.       \n",
              "4   WTF are you talking about Men? No men thats not a menage  that's just gay.                                                          \n",
              "\n",
              "   tagging  \n",
              "0  1        \n",
              "1  1        \n",
              "2  1        \n",
              "3  1        \n",
              "4  1        "
            ],
            "text/html": [
              "\n",
              "  <div id=\"df-0cf940fb-c62a-409d-9904-09021e8d4ca6\">\n",
              "    <div class=\"colab-df-container\">\n",
              "      <div>\n",
              "<style scoped>\n",
              "    .dataframe tbody tr th:only-of-type {\n",
              "        vertical-align: middle;\n",
              "    }\n",
              "\n",
              "    .dataframe tbody tr th {\n",
              "        vertical-align: top;\n",
              "    }\n",
              "\n",
              "    .dataframe thead th {\n",
              "        text-align: right;\n",
              "    }\n",
              "</style>\n",
              "<table border=\"1\" class=\"dataframe\">\n",
              "  <thead>\n",
              "    <tr style=\"text-align: right;\">\n",
              "      <th></th>\n",
              "      <th>comments</th>\n",
              "      <th>tagging</th>\n",
              "    </tr>\n",
              "  </thead>\n",
              "  <tbody>\n",
              "    <tr>\n",
              "      <th>0</th>\n",
              "      <td>Get fucking real dude.</td>\n",
              "      <td>1</td>\n",
              "    </tr>\n",
              "    <tr>\n",
              "      <th>1</th>\n",
              "      <td>She is as dirty as they come  and that crook Rengel  the Dems are so fucking corrupt it's a joke. Make Republicans look like  ...</td>\n",
              "      <td>1</td>\n",
              "    </tr>\n",
              "    <tr>\n",
              "      <th>2</th>\n",
              "      <td>why did you fuck it up. I could do it all day too. Let's do it when you have an hour. Ping me later to sched writing a book here.</td>\n",
              "      <td>1</td>\n",
              "    </tr>\n",
              "    <tr>\n",
              "      <th>3</th>\n",
              "      <td>Dude they dont finish enclosing the fucking showers. I hate half assed jobs. Whats the reasononing behind it? Makes no sense.</td>\n",
              "      <td>1</td>\n",
              "    </tr>\n",
              "    <tr>\n",
              "      <th>4</th>\n",
              "      <td>WTF are you talking about Men? No men thats not a menage  that's just gay.</td>\n",
              "      <td>1</td>\n",
              "    </tr>\n",
              "  </tbody>\n",
              "</table>\n",
              "</div>\n",
              "      <button class=\"colab-df-convert\" onclick=\"convertToInteractive('df-0cf940fb-c62a-409d-9904-09021e8d4ca6')\"\n",
              "              title=\"Convert this dataframe to an interactive table.\"\n",
              "              style=\"display:none;\">\n",
              "        \n",
              "  <svg xmlns=\"http://www.w3.org/2000/svg\" height=\"24px\"viewBox=\"0 0 24 24\"\n",
              "       width=\"24px\">\n",
              "    <path d=\"M0 0h24v24H0V0z\" fill=\"none\"/>\n",
              "    <path d=\"M18.56 5.44l.94 2.06.94-2.06 2.06-.94-2.06-.94-.94-2.06-.94 2.06-2.06.94zm-11 1L8.5 8.5l.94-2.06 2.06-.94-2.06-.94L8.5 2.5l-.94 2.06-2.06.94zm10 10l.94 2.06.94-2.06 2.06-.94-2.06-.94-.94-2.06-.94 2.06-2.06.94z\"/><path d=\"M17.41 7.96l-1.37-1.37c-.4-.4-.92-.59-1.43-.59-.52 0-1.04.2-1.43.59L10.3 9.45l-7.72 7.72c-.78.78-.78 2.05 0 2.83L4 21.41c.39.39.9.59 1.41.59.51 0 1.02-.2 1.41-.59l7.78-7.78 2.81-2.81c.8-.78.8-2.07 0-2.86zM5.41 20L4 18.59l7.72-7.72 1.47 1.35L5.41 20z\"/>\n",
              "  </svg>\n",
              "      </button>\n",
              "      \n",
              "  <style>\n",
              "    .colab-df-container {\n",
              "      display:flex;\n",
              "      flex-wrap:wrap;\n",
              "      gap: 12px;\n",
              "    }\n",
              "\n",
              "    .colab-df-convert {\n",
              "      background-color: #E8F0FE;\n",
              "      border: none;\n",
              "      border-radius: 50%;\n",
              "      cursor: pointer;\n",
              "      display: none;\n",
              "      fill: #1967D2;\n",
              "      height: 32px;\n",
              "      padding: 0 0 0 0;\n",
              "      width: 32px;\n",
              "    }\n",
              "\n",
              "    .colab-df-convert:hover {\n",
              "      background-color: #E2EBFA;\n",
              "      box-shadow: 0px 1px 2px rgba(60, 64, 67, 0.3), 0px 1px 3px 1px rgba(60, 64, 67, 0.15);\n",
              "      fill: #174EA6;\n",
              "    }\n",
              "\n",
              "    [theme=dark] .colab-df-convert {\n",
              "      background-color: #3B4455;\n",
              "      fill: #D2E3FC;\n",
              "    }\n",
              "\n",
              "    [theme=dark] .colab-df-convert:hover {\n",
              "      background-color: #434B5C;\n",
              "      box-shadow: 0px 1px 3px 1px rgba(0, 0, 0, 0.15);\n",
              "      filter: drop-shadow(0px 1px 2px rgba(0, 0, 0, 0.3));\n",
              "      fill: #FFFFFF;\n",
              "    }\n",
              "  </style>\n",
              "\n",
              "      <script>\n",
              "        const buttonEl =\n",
              "          document.querySelector('#df-0cf940fb-c62a-409d-9904-09021e8d4ca6 button.colab-df-convert');\n",
              "        buttonEl.style.display =\n",
              "          google.colab.kernel.accessAllowed ? 'block' : 'none';\n",
              "\n",
              "        async function convertToInteractive(key) {\n",
              "          const element = document.querySelector('#df-0cf940fb-c62a-409d-9904-09021e8d4ca6');\n",
              "          const dataTable =\n",
              "            await google.colab.kernel.invokeFunction('convertToInteractive',\n",
              "                                                     [key], {});\n",
              "          if (!dataTable) return;\n",
              "\n",
              "          const docLinkHtml = 'Like what you see? Visit the ' +\n",
              "            '<a target=\"_blank\" href=https://colab.research.google.com/notebooks/data_table.ipynb>data table notebook</a>'\n",
              "            + ' to learn more about interactive tables.';\n",
              "          element.innerHTML = '';\n",
              "          dataTable['output_type'] = 'display_data';\n",
              "          await google.colab.output.renderOutput(dataTable, element);\n",
              "          const docLink = document.createElement('div');\n",
              "          docLink.innerHTML = docLinkHtml;\n",
              "          element.appendChild(docLink);\n",
              "        }\n",
              "      </script>\n",
              "    </div>\n",
              "  </div>\n",
              "  "
            ]
          },
          "metadata": {},
          "execution_count": 2
        }
      ]
    },
    {
      "cell_type": "code",
      "source": [
        "df.shape"
      ],
      "metadata": {
        "colab": {
          "base_uri": "https://localhost:8080/"
        },
        "id": "nql2U1fgZ_0x",
        "outputId": "272603a0-9e76-4110-98cc-b70516901467"
      },
      "execution_count": 3,
      "outputs": [
        {
          "output_type": "execute_result",
          "data": {
            "text/plain": [
              "(20001, 2)"
            ]
          },
          "metadata": {},
          "execution_count": 3
        }
      ]
    },
    {
      "cell_type": "code",
      "source": [
        "df.info"
      ],
      "metadata": {
        "colab": {
          "base_uri": "https://localhost:8080/"
        },
        "id": "5B6jw__taGvG",
        "outputId": "2e99c2f6-0d02-41ba-eab5-783c722ea6f2"
      },
      "execution_count": 4,
      "outputs": [
        {
          "output_type": "execute_result",
          "data": {
            "text/plain": [
              "<bound method DataFrame.info of                                                                                                                                  comments  \\\n",
              "0       Get fucking real dude.                                                                                                              \n",
              "1       She is as dirty as they come  and that crook Rengel  the Dems are so fucking corrupt it's a joke. Make Republicans look like  ...   \n",
              "2       why did you fuck it up. I could do it all day too. Let's do it when you have an hour. Ping me later to sched writing a book here.   \n",
              "3       Dude they dont finish enclosing the fucking showers. I hate half assed jobs. Whats the reasononing behind it? Makes no sense.       \n",
              "4       WTF are you talking about Men? No men thats not a menage  that's just gay.                                                          \n",
              "...                                                                            ...                                                          \n",
              "19996    I dont. But what is complaining about it going to do?                                                                              \n",
              "19997   Bahah  yeah i&;m totally just gonna&; get pissed at you for talking to you. Mhm  thats just how i am! ;D r Ha  noooot so muchh.     \n",
              "19998    hahahahaha >:) im evil mwahahahahahahahahaha                                                                                       \n",
              "19999   What&;s something unique about Ohio? :)                                                                                             \n",
              "20000   Who is the biggest gossiper you know?                                                                                               \n",
              "\n",
              "       tagging  \n",
              "0      1        \n",
              "1      1        \n",
              "2      1        \n",
              "3      1        \n",
              "4      1        \n",
              "...   ..        \n",
              "19996  0        \n",
              "19997  0        \n",
              "19998  0        \n",
              "19999  0        \n",
              "20000  0        \n",
              "\n",
              "[20001 rows x 2 columns]>"
            ]
          },
          "metadata": {},
          "execution_count": 4
        }
      ]
    },
    {
      "cell_type": "code",
      "source": [
        "df['tagging'].value_counts(normalize=True).plot(kind='bar', title='Ratio of observations')\n"
      ],
      "metadata": {
        "colab": {
          "base_uri": "https://localhost:8080/",
          "height": 295
        },
        "id": "SjDDUwvRaH15",
        "outputId": "fa9bbb28-d2cf-4f95-8fa7-bb2bf7af502a"
      },
      "execution_count": 5,
      "outputs": [
        {
          "output_type": "execute_result",
          "data": {
            "text/plain": [
              "<matplotlib.axes._subplots.AxesSubplot at 0x7feca7b6a710>"
            ]
          },
          "metadata": {},
          "execution_count": 5
        },
        {
          "output_type": "display_data",
          "data": {
            "text/plain": [
              "<Figure size 432x288 with 1 Axes>"
            ],
            "image/png": "[encoded data removed]"
          },
          "metadata": {
            "needs_background": "light"
          }
        }
      ]
    },
    {
      "cell_type": "code",
      "source": [
        "#Function to tokenize the text and remove punctuations\n",
        "import string\n",
        "def tokenize_remove_punctuations(text):\n",
        "    clean_text = []\n",
        "    text = text.split(\" \")\n",
        "    for word in text:\n",
        "        word = list(word)\n",
        "        new_word = []\n",
        "        for c in word:\n",
        "            if c not in string.punctuation:\n",
        "                new_word.append(c)\n",
        "        word = \"\".join(new_word)\n",
        "        if len(word)>0:\n",
        "            clean_text.append(word)\n",
        "    return clean_text"
      ],
      "metadata": {
        "id": "NZOrWmi9aLcP"
      },
      "execution_count": 6,
      "outputs": []
    },
    {
      "cell_type": "code",
      "source": [
        "trial_text = \"hello @anyone reading? wt is the name of am in that this  ??!@\"\n",
        "trial_text = tokenize_remove_punctuations(trial_text)\n",
        "print(trial_text)"
      ],
      "metadata": {
        "colab": {
          "base_uri": "https://localhost:8080/"
        },
        "id": "tFptjp3taRMl",
        "outputId": "f66b763c-2560-4a24-b5a3-c8cdf9a4b37d"
      },
      "execution_count": 7,
      "outputs": [
        {
          "output_type": "stream",
          "name": "stdout",
          "text": [
            "['hello', 'anyone', 'reading', 'wt', 'is', 'the', 'name', 'of', 'am', 'in', 'that', 'this']\n"
          ]
        }
      ]
    },
    {
      "cell_type": "code",
      "source": [
        "#Function to remove english stopwords\n",
        "stopwords = nltk.corpus.stopwords.words('english')\n",
        "def remove_stopwords(text):\n",
        "    clean_text = []\n",
        "    for word in text:\n",
        "        if word not in stopwords:\n",
        "            clean_text.append(word)\n",
        "    return clean_text"
      ],
      "metadata": {
        "id": "gVFUUmJ0aT4s"
      },
      "execution_count": 12,
      "outputs": []
    },
    {
      "cell_type": "code",
      "source": [
        "trial_text = remove_stopwords(trial_text)\n",
        "print(trial_text)"
      ],
      "metadata": {
        "colab": {
          "base_uri": "https://localhost:8080/"
        },
        "id": "fHTtyq1eaWon",
        "outputId": "79a761db-4528-4c55-e366-3a77985c9df2"
      },
      "execution_count": 13,
      "outputs": [
        {
          "output_type": "stream",
          "name": "stdout",
          "text": [
            "['hello', 'anyone', 'reading', 'wt', 'name']\n"
          ]
        }
      ]
    },
    {
      "cell_type": "code",
      "source": [
        "#Part Of Speech Tagging\n",
        "def pos_tagging(text):\n",
        "    tagged = nltk.pos_tag(text)\n",
        "    return tagged "
      ],
      "metadata": {
        "id": "8wdHyrcZbAud"
      },
      "execution_count": 14,
      "outputs": []
    },
    {
      "cell_type": "code",
      "source": [
        "nltk.download('averaged_perceptron_tagger')\n",
        "pos_tag = pos_tagging(trial_text)\n",
        "print(pos_tag)"
      ],
      "metadata": {
        "colab": {
          "base_uri": "https://localhost:8080/"
        },
        "id": "0OZvx_o_bC7X",
        "outputId": "439eaaf7-ea2c-4f64-f0cc-1f528f438c7c"
      },
      "execution_count": 16,
      "outputs": [
        {
          "output_type": "stream",
          "name": "stdout",
          "text": [
            "[('hello', 'NN'), ('anyone', 'NN'), ('reading', 'VBG'), ('wt', 'NNS'), ('name', 'NN')]\n"
          ]
        },
        {
          "output_type": "stream",
          "name": "stderr",
          "text": [
            "[nltk_data] Downloading package averaged_perceptron_tagger to\n",
            "[nltk_data]     /root/nltk_data...\n",
            "[nltk_data]   Unzipping taggers/averaged_perceptron_tagger.zip.\n"
          ]
        }
      ]
    },
    {
      "cell_type": "code",
      "source": [
        "#Function to get wordnet tagging for POS\n",
        "from nltk.corpus import wordnet\n",
        "def get_wordnet(pos_tag):\n",
        "    if pos_tag.startswith('J'):\n",
        "        return wordnet.ADJ\n",
        "    elif pos_tag.startswith('V'):\n",
        "        return wordnet.VERB\n",
        "    elif pos_tag.startswith('N'):\n",
        "        return wordnet.NOUN\n",
        "    elif pos_tag.startswith('R'):\n",
        "        return wordnet.ADV\n",
        "    else:\n",
        "        return wordnet.NOUN"
      ],
      "metadata": {
        "id": "fdezF74LbEt6"
      },
      "execution_count": null,
      "outputs": []
    },
    {
      "cell_type": "code",
      "source": [
        "#Function to lemmatize words\n",
        "from nltk.stem import WordNetLemmatizer\n",
        "def lemmatize(pos_tags):\n",
        "    lemmatized_text = []\n",
        "    for t in pos_tags:\n",
        "        word = WordNetLemmatizer().lemmatize(t[0],get_wordnet(t[1]))\n",
        "        lemmatized_text.append(word)\n",
        "    return lemmatized_text"
      ],
      "metadata": {
        "id": "yVS6eZ9fbTHl"
      },
      "execution_count": 18,
      "outputs": []
    },
    {
      "cell_type": "code",
      "source": [
        "def clean_text(text):\n",
        "    text = str(text)\n",
        "    #Converting text to lower-case\n",
        "    text = text.lower()\n",
        "    #Tokenize and remove punctuations from the text\n",
        "    text = tokenize_remove_punctuations(text)\n",
        "    #Remove words containing numericals\n",
        "    text = [word for word in text if not any(c.isdigit() for c in word)]\n",
        "    #Remove stopwords\n",
        "    text = remove_stopwords(text)\n",
        "    #Remove empty tokens\n",
        "    text = [ t for t in text if len(t) > 0]\n",
        "    #POS tagging\n",
        "    pos_tags = pos_tagging(text)\n",
        "    #Lemmatize text\n",
        "    text = lemmatize(pos_tags)\n",
        "    #Remove words with only one letter\n",
        "    text = [ t for t in text if len(t)>1]\n",
        "    #Join all words\n",
        "    text = \" \".join(text)\n",
        "    return text"
      ],
      "metadata": {
        "id": "RlDVPEA7btWD"
      },
      "execution_count": 19,
      "outputs": []
    },
    {
      "cell_type": "code",
      "source": [
        "nltk.download('wordnet')\n",
        "nltk.download('omw-1.4')\n",
        "print(clean_text(\"What is y0ur names? THis is a cat!! 12?\"))\n"
      ],
      "metadata": {
        "colab": {
          "base_uri": "https://localhost:8080/"
        },
        "id": "12dydI7ebwkU",
        "outputId": "a3887f70-d213-43b5-98b3-ee8d2cbaac04"
      },
      "execution_count": 23,
      "outputs": [
        {
          "output_type": "stream",
          "name": "stderr",
          "text": [
            "[nltk_data] Downloading package wordnet to /root/nltk_data...\n",
            "[nltk_data]   Package wordnet is already up-to-date!\n",
            "[nltk_data] Downloading package omw-1.4 to /root/nltk_data...\n"
          ]
        },
        {
          "output_type": "stream",
          "name": "stdout",
          "text": [
            "name cat\n"
          ]
        }
      ]
    },
    {
      "cell_type": "code",
      "source": [
        "\n",
        "print(clean_text(\"Are you going to zoo?\"))\n",
        "\n"
      ],
      "metadata": {
        "colab": {
          "base_uri": "https://localhost:8080/"
        },
        "id": "_jwUptSXbymV",
        "outputId": "5cc762c4-0e55-4ace-c060-83b743dee0ed"
      },
      "execution_count": 25,
      "outputs": [
        {
          "output_type": "stream",
          "name": "stdout",
          "text": [
            "go zoo\n"
          ]
        }
      ]
    },
    {
      "cell_type": "code",
      "source": [
        "df['Processed_Comment'] = df['comments'].map(clean_text)\n",
        "\n",
        "#Splitting dataset for training and testing(80:20)\n",
        "from sklearn.model_selection import train_test_split\n",
        "X_train, X_test, y_train, y_test = train_test_split(df['Processed_Comment'], \n",
        "                                                    df['tagging'], \n",
        "                                                    random_state=42,test_size=0.20)\n"
      ],
      "metadata": {
        "id": "CNWSRPpNcIM8"
      },
      "execution_count": 26,
      "outputs": []
    },
    {
      "cell_type": "code",
      "source": [
        "#Using CountVectorizer to get feature vectors\n",
        "from sklearn.feature_extraction.text import CountVectorizer\n",
        "count_vector = CountVectorizer()\n",
        "X_train = count_vector.fit_transform(X_train)\n",
        "X_test = count_vector.transform(X_test)"
      ],
      "metadata": {
        "id": "VrUaYBT5cMfF"
      },
      "execution_count": 27,
      "outputs": []
    },
    {
      "cell_type": "code",
      "source": [
        "len(count_vector.vocabulary_)\n"
      ],
      "metadata": {
        "colab": {
          "base_uri": "https://localhost:8080/"
        },
        "id": "EIBrfglTcbSO",
        "outputId": "991f227c-a7d2-422a-e30a-e1c7ab97ea40"
      },
      "execution_count": 28,
      "outputs": [
        {
          "output_type": "execute_result",
          "data": {
            "text/plain": [
              "13816"
            ]
          },
          "metadata": {},
          "execution_count": 28
        }
      ]
    },
    {
      "cell_type": "code",
      "source": [
        "from sklearn.metrics import f1_score, accuracy_score, precision_score, recall_score\n",
        "from sklearn.metrics import confusion_matrix"
      ],
      "metadata": {
        "id": "45wO5ShzcddS"
      },
      "execution_count": 29,
      "outputs": []
    },
    {
      "cell_type": "code",
      "source": [
        "from sklearn.neighbors import KNeighborsClassifier  \n",
        "from sklearn.linear_model import LogisticRegression\n",
        "from sklearn.naive_bayes import MultinomialNB\n",
        "from sklearn.svm import LinearSVC\n",
        "from sklearn.model_selection import GridSearchCV"
      ],
      "metadata": {
        "id": "LBczEgwfcfZR"
      },
      "execution_count": 30,
      "outputs": []
    },
    {
      "cell_type": "code",
      "source": [
        "#Using GridSearchCV to find best parameters\n",
        "model_params = {\n",
        "    'LinearSVC': {\n",
        "        'model': LinearSVC(max_iter=1000000,random_state=42),\n",
        "        'params' : {\n",
        "            'C': [0.1,1,5,10,20],\n",
        "        }  \n",
        "    },\n",
        "    'MultinomialNB': {\n",
        "        'model': MultinomialNB(),\n",
        "        'params' : {\n",
        "            'alpha': np.linspace(0.5, 1.5, 6),\n",
        "            'fit_prior': [True, False],\n",
        "        }\n",
        "    },\n",
        "    'logistic_regression' : {\n",
        "        'model': LogisticRegression(random_state=42, multi_class='ovr',max_iter=1000000),\n",
        "        'params': {\n",
        "            'C': [1,5,10],\n",
        "            'solver': ['newton-cg', 'lbfgs', 'liblinear'],\n",
        "        }\n",
        "    },\n",
        "    'KNeighborsClassifier': {\n",
        "        'model': KNeighborsClassifier(p=2 ),\n",
        "        'params' : {\n",
        "            'n_neighbors': [5,9,11,23],\n",
        "              'weights' : ['uniform', 'distance'],\n",
        "              'metric' : ['euclidean', 'manhattan', 'minkowski'],\n",
        "        }\n",
        "    }\n",
        "}\n"
      ],
      "metadata": {
        "id": "AUD7MYRRchSt"
      },
      "execution_count": 32,
      "outputs": []
    },
    {
      "cell_type": "code",
      "source": [
        "scores = []\n",
        "\n",
        "for model_name, mp in model_params.items():\n",
        "    clf =  GridSearchCV(mp['model'], mp['params'], cv=5, return_train_score=False)\n",
        "    clf.fit(X_train, y_train)\n",
        "    scores.append({\n",
        "        'model': model_name,\n",
        "        'best_score': clf.best_score_,\n",
        "        'best_params': clf.best_params_\n",
        "    })\n",
        "    \n",
        "params = pd.DataFrame(scores,columns=['model','best_score','best_params'])\n",
        "params"
      ],
      "metadata": {
        "colab": {
          "base_uri": "https://localhost:8080/",
          "height": 175
        },
        "id": "lG1YtyOackkN",
        "outputId": "13d34978-0b66-4530-b1c6-3203266529c3"
      },
      "execution_count": 33,
      "outputs": [
        {
          "output_type": "execute_result",
          "data": {
            "text/plain": [
              "                  model  best_score  \\\n",
              "0  LinearSVC             0.830562     \n",
              "1  MultinomialNB         0.765375     \n",
              "2  logistic_regression   0.832250     \n",
              "3  KNeighborsClassifier  0.782563     \n",
              "\n",
              "                                                         best_params  \n",
              "0  {'C': 1}                                                           \n",
              "1  {'alpha': 0.5, 'fit_prior': True}                                  \n",
              "2  {'C': 10, 'solver': 'lbfgs'}                                       \n",
              "3  {'metric': 'euclidean', 'n_neighbors': 23, 'weights': 'distance'}  "
            ],
            "text/html": [
              "\n",
              "  <div id=\"df-4b979fce-a3b5-484b-ac3d-f1e836f09ade\">\n",
              "    <div class=\"colab-df-container\">\n",
              "      <div>\n",
              "<style scoped>\n",
              "    .dataframe tbody tr th:only-of-type {\n",
              "        vertical-align: middle;\n",
              "    }\n",
              "\n",
              "    .dataframe tbody tr th {\n",
              "        vertical-align: top;\n",
              "    }\n",
              "\n",
              "    .dataframe thead th {\n",
              "        text-align: right;\n",
              "    }\n",
              "</style>\n",
              "<table border=\"1\" class=\"dataframe\">\n",
              "  <thead>\n",
              "    <tr style=\"text-align: right;\">\n",
              "      <th></th>\n",
              "      <th>model</th>\n",
              "      <th>best_score</th>\n",
              "      <th>best_params</th>\n",
              "    </tr>\n",
              "  </thead>\n",
              "  <tbody>\n",
              "    <tr>\n",
              "      <th>0</th>\n",
              "      <td>LinearSVC</td>\n",
              "      <td>0.830562</td>\n",
              "      <td>{'C': 1}</td>\n",
              "    </tr>\n",
              "    <tr>\n",
              "      <th>1</th>\n",
              "      <td>MultinomialNB</td>\n",
              "      <td>0.765375</td>\n",
              "      <td>{'alpha': 0.5, 'fit_prior': True}</td>\n",
              "    </tr>\n",
              "    <tr>\n",
              "      <th>2</th>\n",
              "      <td>logistic_regression</td>\n",
              "      <td>0.832250</td>\n",
              "      <td>{'C': 10, 'solver': 'lbfgs'}</td>\n",
              "    </tr>\n",
              "    <tr>\n",
              "      <th>3</th>\n",
              "      <td>KNeighborsClassifier</td>\n",
              "      <td>0.782563</td>\n",
              "      <td>{'metric': 'euclidean', 'n_neighbors': 23, 'weights': 'distance'}</td>\n",
              "    </tr>\n",
              "  </tbody>\n",
              "</table>\n",
              "</div>\n",
              "      <button class=\"colab-df-convert\" onclick=\"convertToInteractive('df-4b979fce-a3b5-484b-ac3d-f1e836f09ade')\"\n",
              "              title=\"Convert this dataframe to an interactive table.\"\n",
              "              style=\"display:none;\">\n",
              "        \n",
              "  <svg xmlns=\"http://www.w3.org/2000/svg\" height=\"24px\"viewBox=\"0 0 24 24\"\n",
              "       width=\"24px\">\n",
              "    <path d=\"M0 0h24v24H0V0z\" fill=\"none\"/>\n",
              "    <path d=\"M18.56 5.44l.94 2.06.94-2.06 2.06-.94-2.06-.94-.94-2.06-.94 2.06-2.06.94zm-11 1L8.5 8.5l.94-2.06 2.06-.94-2.06-.94L8.5 2.5l-.94 2.06-2.06.94zm10 10l.94 2.06.94-2.06 2.06-.94-2.06-.94-.94-2.06-.94 2.06-2.06.94z\"/><path d=\"M17.41 7.96l-1.37-1.37c-.4-.4-.92-.59-1.43-.59-.52 0-1.04.2-1.43.59L10.3 9.45l-7.72 7.72c-.78.78-.78 2.05 0 2.83L4 21.41c.39.39.9.59 1.41.59.51 0 1.02-.2 1.41-.59l7.78-7.78 2.81-2.81c.8-.78.8-2.07 0-2.86zM5.41 20L4 18.59l7.72-7.72 1.47 1.35L5.41 20z\"/>\n",
              "  </svg>\n",
              "      </button>\n",
              "      \n",
              "  <style>\n",
              "    .colab-df-container {\n",
              "      display:flex;\n",
              "      flex-wrap:wrap;\n",
              "      gap: 12px;\n",
              "    }\n",
              "\n",
              "    .colab-df-convert {\n",
              "      background-color: #E8F0FE;\n",
              "      border: none;\n",
              "      border-radius: 50%;\n",
              "      cursor: pointer;\n",
              "      display: none;\n",
              "      fill: #1967D2;\n",
              "      height: 32px;\n",
              "      padding: 0 0 0 0;\n",
              "      width: 32px;\n",
              "    }\n",
              "\n",
              "    .colab-df-convert:hover {\n",
              "      background-color: #E2EBFA;\n",
              "      box-shadow: 0px 1px 2px rgba(60, 64, 67, 0.3), 0px 1px 3px 1px rgba(60, 64, 67, 0.15);\n",
              "      fill: #174EA6;\n",
              "    }\n",
              "\n",
              "    [theme=dark] .colab-df-convert {\n",
              "      background-color: #3B4455;\n",
              "      fill: #D2E3FC;\n",
              "    }\n",
              "\n",
              "    [theme=dark] .colab-df-convert:hover {\n",
              "      background-color: #434B5C;\n",
              "      box-shadow: 0px 1px 3px 1px rgba(0, 0, 0, 0.15);\n",
              "      filter: drop-shadow(0px 1px 2px rgba(0, 0, 0, 0.3));\n",
              "      fill: #FFFFFF;\n",
              "    }\n",
              "  </style>\n",
              "\n",
              "      <script>\n",
              "        const buttonEl =\n",
              "          document.querySelector('#df-4b979fce-a3b5-484b-ac3d-f1e836f09ade button.colab-df-convert');\n",
              "        buttonEl.style.display =\n",
              "          google.colab.kernel.accessAllowed ? 'block' : 'none';\n",
              "\n",
              "        async function convertToInteractive(key) {\n",
              "          const element = document.querySelector('#df-4b979fce-a3b5-484b-ac3d-f1e836f09ade');\n",
              "          const dataTable =\n",
              "            await google.colab.kernel.invokeFunction('convertToInteractive',\n",
              "                                                     [key], {});\n",
              "          if (!dataTable) return;\n",
              "\n",
              "          const docLinkHtml = 'Like what you see? Visit the ' +\n",
              "            '<a target=\"_blank\" href=https://colab.research.google.com/notebooks/data_table.ipynb>data table notebook</a>'\n",
              "            + ' to learn more about interactive tables.';\n",
              "          element.innerHTML = '';\n",
              "          dataTable['output_type'] = 'display_data';\n",
              "          await google.colab.output.renderOutput(dataTable, element);\n",
              "          const docLink = document.createElement('div');\n",
              "          docLink.innerHTML = docLinkHtml;\n",
              "          element.appendChild(docLink);\n",
              "        }\n",
              "      </script>\n",
              "    </div>\n",
              "  </div>\n",
              "  "
            ]
          },
          "metadata": {},
          "execution_count": 33
        }
      ]
    },
    {
      "cell_type": "code",
      "source": [
        "results =[]"
      ],
      "metadata": {
        "id": "MalwizIxcrr5"
      },
      "execution_count": 34,
      "outputs": []
    },
    {
      "cell_type": "code",
      "source": [
        "model1= KNeighborsClassifier(n_neighbors=23, metric='euclidean',weights = 'distance')  \n",
        "model1.fit(X_train, y_train) "
      ],
      "metadata": {
        "colab": {
          "base_uri": "https://localhost:8080/"
        },
        "id": "29F_d8j5cu1b",
        "outputId": "65fff10e-9b47-4f52-9090-7c96391e4e52"
      },
      "execution_count": 35,
      "outputs": [
        {
          "output_type": "execute_result",
          "data": {
            "text/plain": [
              "KNeighborsClassifier(metric='euclidean', n_neighbors=23, weights='distance')"
            ]
          },
          "metadata": {},
          "execution_count": 35
        }
      ]
    },
    {
      "cell_type": "code",
      "source": [
        "predictions_test = model1.predict(X_test)\n",
        "predictions_train = model1.predict(X_train)\n",
        "temp = ['KNeighborsClassifier']\n",
        "temp.append(accuracy_score(predictions_train,y_train))\n",
        "temp.append(recall_score(predictions_train,y_train))\n",
        "temp.append(f1_score(predictions_train,y_train))\n",
        "temp.append(precision_score(predictions_train,y_train))\n",
        "temp.append(accuracy_score(predictions_test,y_test))\n",
        "temp.append(recall_score(predictions_test,y_test))\n",
        "temp.append(f1_score(predictions_test,y_test))\n",
        "temp.append(precision_score(predictions_test,y_test))\n",
        "results.append(temp)"
      ],
      "metadata": {
        "id": "ZHTT6FpCcw6_"
      },
      "execution_count": 36,
      "outputs": []
    },
    {
      "cell_type": "code",
      "source": [
        "confusion = confusion_matrix(predictions_test,y_test)\n",
        "print(confusion)"
      ],
      "metadata": {
        "colab": {
          "base_uri": "https://localhost:8080/"
        },
        "id": "UqNy2cvZc0ab",
        "outputId": "c9474b57-20ee-4588-98d3-91ceca874c8e"
      },
      "execution_count": 37,
      "outputs": [
        {
          "output_type": "stream",
          "name": "stdout",
          "text": [
            "[[1678   80]\n",
            " [ 746 1497]]\n"
          ]
        }
      ]
    },
    {
      "cell_type": "code",
      "source": [
        "#Logistic Regression\n",
        "model2 = LogisticRegression(C=10, random_state=42, solver='lbfgs', multi_class='ovr',max_iter=1000000)\n",
        "model2.fit(X_train, y_train)"
      ],
      "metadata": {
        "colab": {
          "base_uri": "https://localhost:8080/"
        },
        "id": "EyR_JV0Gc2xh",
        "outputId": "75472ddb-652c-4941-8501-b31875a33fe0"
      },
      "execution_count": 39,
      "outputs": [
        {
          "output_type": "execute_result",
          "data": {
            "text/plain": [
              "LogisticRegression(C=10, max_iter=1000000, multi_class='ovr', random_state=42)"
            ]
          },
          "metadata": {},
          "execution_count": 39
        }
      ]
    },
    {
      "cell_type": "code",
      "source": [
        "predictions_test = model2.predict(X_test)\n",
        "predictions_train = model2.predict(X_train)\n",
        "temp = ['LogisticRegression']\n",
        "temp.append(accuracy_score(predictions_train,y_train))\n",
        "temp.append(recall_score(predictions_train,y_train))\n",
        "temp.append(f1_score(predictions_train,y_train))\n",
        "temp.append(precision_score(predictions_train,y_train))\n",
        "temp.append(accuracy_score(predictions_test,y_test))\n",
        "temp.append(recall_score(predictions_test,y_test))\n",
        "temp.append(f1_score(predictions_test,y_test))\n",
        "temp.append(precision_score(predictions_test,y_test))\n",
        "results.append(temp)"
      ],
      "metadata": {
        "id": "Gaz9KW8Kc_dA"
      },
      "execution_count": 40,
      "outputs": []
    },
    {
      "cell_type": "code",
      "source": [
        "confusion = confusion_matrix(predictions_test,y_test)\n",
        "print(confusion)"
      ],
      "metadata": {
        "colab": {
          "base_uri": "https://localhost:8080/"
        },
        "id": "s3BzICLhdBsZ",
        "outputId": "e07bfaa0-83b4-415a-cc0c-8dc6ec526baf"
      },
      "execution_count": 41,
      "outputs": [
        {
          "output_type": "stream",
          "name": "stdout",
          "text": [
            "[[1983  163]\n",
            " [ 441 1414]]\n"
          ]
        }
      ]
    },
    {
      "cell_type": "code",
      "source": [
        "#Naive Bayes\n",
        "model3 = MultinomialNB(alpha = 0.5, fit_prior = 'True')\n",
        "model3.fit(X_train, y_train)"
      ],
      "metadata": {
        "colab": {
          "base_uri": "https://localhost:8080/"
        },
        "id": "iIG5WSVadDt0",
        "outputId": "9357bebc-4e02-4757-ac42-13e5ecf23eff"
      },
      "execution_count": 42,
      "outputs": [
        {
          "output_type": "execute_result",
          "data": {
            "text/plain": [
              "MultinomialNB(alpha=0.5, fit_prior='True')"
            ]
          },
          "metadata": {},
          "execution_count": 42
        }
      ]
    },
    {
      "cell_type": "code",
      "source": [
        "predictions_test = model3.predict(X_test)\n",
        "predictions_train = model3.predict(X_train)\n",
        "temp = ['MultinomialNB']\n",
        "temp.append(accuracy_score(predictions_train,y_train))\n",
        "temp.append(recall_score(predictions_train,y_train))\n",
        "temp.append(f1_score(predictions_train,y_train))\n",
        "temp.append(precision_score(predictions_train,y_train))\n",
        "temp.append(accuracy_score(predictions_test,y_test))\n",
        "temp.append(recall_score(predictions_test,y_test))\n",
        "temp.append(f1_score(predictions_test,y_test))\n",
        "temp.append(precision_score(predictions_test,y_test))\n",
        "results.append(temp)"
      ],
      "metadata": {
        "id": "i6nysQ26dIB4"
      },
      "execution_count": 43,
      "outputs": []
    },
    {
      "cell_type": "code",
      "source": [
        "confusion = confusion_matrix(predictions_test,y_test)\n",
        "print(confusion)"
      ],
      "metadata": {
        "colab": {
          "base_uri": "https://localhost:8080/"
        },
        "id": "DC5yGnuXdKpz",
        "outputId": "8e19d3ab-e500-4dbe-839e-37011b51f5f1"
      },
      "execution_count": 44,
      "outputs": [
        {
          "output_type": "stream",
          "name": "stdout",
          "text": [
            "[[1986  370]\n",
            " [ 438 1207]]\n"
          ]
        }
      ]
    },
    {
      "cell_type": "code",
      "source": [
        "#Linear SVC\n",
        "model4 = LinearSVC(C = 1, max_iter=1000000,random_state=42)\n",
        "model4.fit(X_train, y_train)"
      ],
      "metadata": {
        "colab": {
          "base_uri": "https://localhost:8080/"
        },
        "id": "09djxMyIdMwS",
        "outputId": "88ff4913-a3e4-4520-a6c1-cf4093a8ee5b"
      },
      "execution_count": 45,
      "outputs": [
        {
          "output_type": "execute_result",
          "data": {
            "text/plain": [
              "LinearSVC(C=1, max_iter=1000000, random_state=42)"
            ]
          },
          "metadata": {},
          "execution_count": 45
        }
      ]
    },
    {
      "cell_type": "code",
      "source": [
        "predictions_test = model4.predict(X_test)\n",
        "predictions_train = model4.predict(X_train)\n",
        "temp = ['LinearSVC']\n",
        "temp.append(accuracy_score(predictions_train,y_train))\n",
        "temp.append(recall_score(predictions_train,y_train))\n",
        "temp.append(f1_score(predictions_train,y_train))\n",
        "temp.append(precision_score(predictions_train,y_train))\n",
        "temp.append(accuracy_score(predictions_test,y_test))\n",
        "temp.append(recall_score(predictions_test,y_test))\n",
        "temp.append(f1_score(predictions_test,y_test))\n",
        "temp.append(precision_score(predictions_test,y_test))\n",
        "results.append(temp)"
      ],
      "metadata": {
        "id": "iQSEUdGHdR0A"
      },
      "execution_count": 46,
      "outputs": []
    },
    {
      "cell_type": "code",
      "source": [
        "confusion = confusion_matrix(predictions_test,y_test)\n",
        "print(confusion)"
      ],
      "metadata": {
        "colab": {
          "base_uri": "https://localhost:8080/"
        },
        "id": "Mox-inwjdT4r",
        "outputId": "bd3c86f9-5837-4667-de5e-1a3939e7f34e"
      },
      "execution_count": 47,
      "outputs": [
        {
          "output_type": "stream",
          "name": "stdout",
          "text": [
            "[[1967  162]\n",
            " [ 457 1415]]\n"
          ]
        }
      ]
    },
    {
      "cell_type": "code",
      "source": [
        "#Summary"
      ],
      "metadata": {
        "id": "b-0Q5E64dV_l"
      },
      "execution_count": 48,
      "outputs": []
    },
    {
      "cell_type": "code",
      "source": [
        "results = pd.DataFrame(results, columns = ['Algorithm','Accuracy Score : Train', 'Recall Score : Train','F1-Score :Train','Precision Score :Train','Accuracy Score : Test', 'Recall Score : Test','F1-Score : Test','Precision Score : Test'])\n",
        "results"
      ],
      "metadata": {
        "colab": {
          "base_uri": "https://localhost:8080/",
          "height": 193
        },
        "id": "Q5j78PXndY2Z",
        "outputId": "689c32ab-17d8-4e60-978a-35aa2e3f7178"
      },
      "execution_count": 49,
      "outputs": [
        {
          "output_type": "execute_result",
          "data": {
            "text/plain": [
              "              Algorithm  Accuracy Score : Train  Recall Score : Train  \\\n",
              "0  KNeighborsClassifier  0.993625                0.989482               \n",
              "1  LogisticRegression    0.964187                0.956683               \n",
              "2  MultinomialNB         0.893938                0.873767               \n",
              "3  LinearSVC             0.963938                0.954750               \n",
              "\n",
              "   F1-Score :Train  Precision Score :Train  Accuracy Score : Test  \\\n",
              "0  0.991853         0.994235                0.793552                \n",
              "1  0.953994         0.951321                0.849038                \n",
              "2  0.862357         0.851241                0.798050                \n",
              "3  0.953755         0.952762                0.845289                \n",
              "\n",
              "   Recall Score : Test  F1-Score : Test  Precision Score : Test  \n",
              "0  0.667410             0.783770         0.949271                \n",
              "1  0.762264             0.824009         0.896639                \n",
              "2  0.733739             0.749224         0.765377                \n",
              "3  0.755876             0.820528         0.897273                "
            ],
            "text/html": [
              "\n",
              "  <div id=\"df-700882c9-e7df-4f0d-b845-eb940d5f433c\">\n",
              "    <div class=\"colab-df-container\">\n",
              "      <div>\n",
              "<style scoped>\n",
              "    .dataframe tbody tr th:only-of-type {\n",
              "        vertical-align: middle;\n",
              "    }\n",
              "\n",
              "    .dataframe tbody tr th {\n",
              "        vertical-align: top;\n",
              "    }\n",
              "\n",
              "    .dataframe thead th {\n",
              "        text-align: right;\n",
              "    }\n",
              "</style>\n",
              "<table border=\"1\" class=\"dataframe\">\n",
              "  <thead>\n",
              "    <tr style=\"text-align: right;\">\n",
              "      <th></th>\n",
              "      <th>Algorithm</th>\n",
              "      <th>Accuracy Score : Train</th>\n",
              "      <th>Recall Score : Train</th>\n",
              "      <th>F1-Score :Train</th>\n",
              "      <th>Precision Score :Train</th>\n",
              "      <th>Accuracy Score : Test</th>\n",
              "      <th>Recall Score : Test</th>\n",
              "      <th>F1-Score : Test</th>\n",
              "      <th>Precision Score : Test</th>\n",
              "    </tr>\n",
              "  </thead>\n",
              "  <tbody>\n",
              "    <tr>\n",
              "      <th>0</th>\n",
              "      <td>KNeighborsClassifier</td>\n",
              "      <td>0.993625</td>\n",
              "      <td>0.989482</td>\n",
              "      <td>0.991853</td>\n",
              "      <td>0.994235</td>\n",
              "      <td>0.793552</td>\n",
              "      <td>0.667410</td>\n",
              "      <td>0.783770</td>\n",
              "      <td>0.949271</td>\n",
              "    </tr>\n",
              "    <tr>\n",
              "      <th>1</th>\n",
              "      <td>LogisticRegression</td>\n",
              "      <td>0.964187</td>\n",
              "      <td>0.956683</td>\n",
              "      <td>0.953994</td>\n",
              "      <td>0.951321</td>\n",
              "      <td>0.849038</td>\n",
              "      <td>0.762264</td>\n",
              "      <td>0.824009</td>\n",
              "      <td>0.896639</td>\n",
              "    </tr>\n",
              "    <tr>\n",
              "      <th>2</th>\n",
              "      <td>MultinomialNB</td>\n",
              "      <td>0.893938</td>\n",
              "      <td>0.873767</td>\n",
              "      <td>0.862357</td>\n",
              "      <td>0.851241</td>\n",
              "      <td>0.798050</td>\n",
              "      <td>0.733739</td>\n",
              "      <td>0.749224</td>\n",
              "      <td>0.765377</td>\n",
              "    </tr>\n",
              "    <tr>\n",
              "      <th>3</th>\n",
              "      <td>LinearSVC</td>\n",
              "      <td>0.963938</td>\n",
              "      <td>0.954750</td>\n",
              "      <td>0.953755</td>\n",
              "      <td>0.952762</td>\n",
              "      <td>0.845289</td>\n",
              "      <td>0.755876</td>\n",
              "      <td>0.820528</td>\n",
              "      <td>0.897273</td>\n",
              "    </tr>\n",
              "  </tbody>\n",
              "</table>\n",
              "</div>\n",
              "      <button class=\"colab-df-convert\" onclick=\"convertToInteractive('df-700882c9-e7df-4f0d-b845-eb940d5f433c')\"\n",
              "              title=\"Convert this dataframe to an interactive table.\"\n",
              "              style=\"display:none;\">\n",
              "        \n",
              "  <svg xmlns=\"http://www.w3.org/2000/svg\" height=\"24px\"viewBox=\"0 0 24 24\"\n",
              "       width=\"24px\">\n",
              "    <path d=\"M0 0h24v24H0V0z\" fill=\"none\"/>\n",
              "    <path d=\"M18.56 5.44l.94 2.06.94-2.06 2.06-.94-2.06-.94-.94-2.06-.94 2.06-2.06.94zm-11 1L8.5 8.5l.94-2.06 2.06-.94-2.06-.94L8.5 2.5l-.94 2.06-2.06.94zm10 10l.94 2.06.94-2.06 2.06-.94-2.06-.94-.94-2.06-.94 2.06-2.06.94z\"/><path d=\"M17.41 7.96l-1.37-1.37c-.4-.4-.92-.59-1.43-.59-.52 0-1.04.2-1.43.59L10.3 9.45l-7.72 7.72c-.78.78-.78 2.05 0 2.83L4 21.41c.39.39.9.59 1.41.59.51 0 1.02-.2 1.41-.59l7.78-7.78 2.81-2.81c.8-.78.8-2.07 0-2.86zM5.41 20L4 18.59l7.72-7.72 1.47 1.35L5.41 20z\"/>\n",
              "  </svg>\n",
              "      </button>\n",
              "      \n",
              "  <style>\n",
              "    .colab-df-container {\n",
              "      display:flex;\n",
              "      flex-wrap:wrap;\n",
              "      gap: 12px;\n",
              "    }\n",
              "\n",
              "    .colab-df-convert {\n",
              "      background-color: #E8F0FE;\n",
              "      border: none;\n",
              "      border-radius: 50%;\n",
              "      cursor: pointer;\n",
              "      display: none;\n",
              "      fill: #1967D2;\n",
              "      height: 32px;\n",
              "      padding: 0 0 0 0;\n",
              "      width: 32px;\n",
              "    }\n",
              "\n",
              "    .colab-df-convert:hover {\n",
              "      background-color: #E2EBFA;\n",
              "      box-shadow: 0px 1px 2px rgba(60, 64, 67, 0.3), 0px 1px 3px 1px rgba(60, 64, 67, 0.15);\n",
              "      fill: #174EA6;\n",
              "    }\n",
              "\n",
              "    [theme=dark] .colab-df-convert {\n",
              "      background-color: #3B4455;\n",
              "      fill: #D2E3FC;\n",
              "    }\n",
              "\n",
              "    [theme=dark] .colab-df-convert:hover {\n",
              "      background-color: #434B5C;\n",
              "      box-shadow: 0px 1px 3px 1px rgba(0, 0, 0, 0.15);\n",
              "      filter: drop-shadow(0px 1px 2px rgba(0, 0, 0, 0.3));\n",
              "      fill: #FFFFFF;\n",
              "    }\n",
              "  </style>\n",
              "\n",
              "      <script>\n",
              "        const buttonEl =\n",
              "          document.querySelector('#df-700882c9-e7df-4f0d-b845-eb940d5f433c button.colab-df-convert');\n",
              "        buttonEl.style.display =\n",
              "          google.colab.kernel.accessAllowed ? 'block' : 'none';\n",
              "\n",
              "        async function convertToInteractive(key) {\n",
              "          const element = document.querySelector('#df-700882c9-e7df-4f0d-b845-eb940d5f433c');\n",
              "          const dataTable =\n",
              "            await google.colab.kernel.invokeFunction('convertToInteractive',\n",
              "                                                     [key], {});\n",
              "          if (!dataTable) return;\n",
              "\n",
              "          const docLinkHtml = 'Like what you see? Visit the ' +\n",
              "            '<a target=\"_blank\" href=https://colab.research.google.com/notebooks/data_table.ipynb>data table notebook</a>'\n",
              "            + ' to learn more about interactive tables.';\n",
              "          element.innerHTML = '';\n",
              "          dataTable['output_type'] = 'display_data';\n",
              "          await google.colab.output.renderOutput(dataTable, element);\n",
              "          const docLink = document.createElement('div');\n",
              "          docLink.innerHTML = docLinkHtml;\n",
              "          element.appendChild(docLink);\n",
              "        }\n",
              "      </script>\n",
              "    </div>\n",
              "  </div>\n",
              "  "
            ]
          },
          "metadata": {},
          "execution_count": 49
        }
      ]
    },
    {
      "cell_type": "code",
      "source": [
        "#Saving Models and Pickle Files"
      ],
      "metadata": {
        "id": "Lk2LMcuxdZPj"
      },
      "execution_count": 50,
      "outputs": []
    },
    {
      "cell_type": "code",
      "source": [
        "import pickle\n",
        "\n",
        "\n",
        "pickle_out = open(\"vectorizer.pkl\",\"wb\")\n",
        "pickle.dump(count_vector, pickle_out)\n",
        "pickle_out.close()\n",
        "\n",
        "pickle_out = open(\"LinearSVC.pkl\",\"wb\")\n",
        "pickle.dump(model4, pickle_out)\n",
        "pickle_out.close()\n",
        "\n",
        "pickle_out = open(\"MultinomialNB.pkl\",\"wb\")\n",
        "pickle.dump(model3, pickle_out)\n",
        "pickle_out.close()\n",
        "\n",
        "pickle_out = open(\"LogisticRegression.pkl\",\"wb\")\n",
        "pickle.dump(model2, pickle_out)\n",
        "pickle_out.close()\n",
        "\n",
        "pickle_out = open(\"KNeighborsClassifier.pkl\",\"wb\")\n",
        "pickle.dump(model1, pickle_out)\n",
        "pickle_out.close()"
      ],
      "metadata": {
        "id": "fAdKKO5-d8Mj"
      },
      "execution_count": 51,
      "outputs": []
    }
  ]
}